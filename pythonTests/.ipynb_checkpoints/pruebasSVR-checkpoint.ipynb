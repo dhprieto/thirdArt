{
 "cells": [
  {
   "cell_type": "code",
   "execution_count": 6,
   "metadata": {},
   "outputs": [
    {
     "name": "stderr",
     "output_type": "stream",
     "text": [
      "C:\\Users\\CRISTI~1\\AppData\\Local\\Temp/ipykernel_2888/1308623508.py:21: FutureWarning: In a future version of pandas all arguments of DataFrame.drop except for the argument 'labels' will be keyword-only\n",
      "  numCols = datos.select_dtypes(include=np.number).drop(\"numVol\",1).columns\n"
     ]
    },
    {
     "data": {
      "text/html": [
       "<div>\n",
       "<style scoped>\n",
       "    .dataframe tbody tr th:only-of-type {\n",
       "        vertical-align: middle;\n",
       "    }\n",
       "\n",
       "    .dataframe tbody tr th {\n",
       "        vertical-align: top;\n",
       "    }\n",
       "\n",
       "    .dataframe thead th {\n",
       "        text-align: right;\n",
       "    }\n",
       "</style>\n",
       "<table border=\"1\" class=\"dataframe\">\n",
       "  <thead>\n",
       "    <tr style=\"text-align: right;\">\n",
       "      <th></th>\n",
       "      <th>CA.Gluc</th>\n",
       "      <th>DHPAA.Gluc</th>\n",
       "      <th>TFA.Gluc</th>\n",
       "      <th>TFA.Sulfate</th>\n",
       "      <th>Ácido.Vanílico..VA.</th>\n",
       "      <th>IMC</th>\n",
       "      <th>Grasa</th>\n",
       "      <th>IRCV</th>\n",
       "      <th>Bpmin</th>\n",
       "      <th>Bpmax</th>\n",
       "      <th>Frec</th>\n",
       "    </tr>\n",
       "  </thead>\n",
       "  <tbody>\n",
       "    <tr>\n",
       "      <th>1</th>\n",
       "      <td>0.854642</td>\n",
       "      <td>0.287856</td>\n",
       "      <td>0.003063</td>\n",
       "      <td>0.156336</td>\n",
       "      <td>0.132058</td>\n",
       "      <td>0.390977</td>\n",
       "      <td>0.693410</td>\n",
       "      <td>0.266667</td>\n",
       "      <td>0.328358</td>\n",
       "      <td>0.345238</td>\n",
       "      <td>0.457627</td>\n",
       "    </tr>\n",
       "    <tr>\n",
       "      <th>2</th>\n",
       "      <td>0.020402</td>\n",
       "      <td>0.154252</td>\n",
       "      <td>0.011191</td>\n",
       "      <td>0.075332</td>\n",
       "      <td>0.019029</td>\n",
       "      <td>0.353383</td>\n",
       "      <td>0.710602</td>\n",
       "      <td>0.466667</td>\n",
       "      <td>0.238806</td>\n",
       "      <td>0.345238</td>\n",
       "      <td>0.372881</td>\n",
       "    </tr>\n",
       "    <tr>\n",
       "      <th>3</th>\n",
       "      <td>0.018567</td>\n",
       "      <td>0.101799</td>\n",
       "      <td>0.073855</td>\n",
       "      <td>0.079011</td>\n",
       "      <td>0.014788</td>\n",
       "      <td>0.218045</td>\n",
       "      <td>0.690544</td>\n",
       "      <td>0.133333</td>\n",
       "      <td>0.253731</td>\n",
       "      <td>0.345238</td>\n",
       "      <td>0.627119</td>\n",
       "    </tr>\n",
       "    <tr>\n",
       "      <th>4</th>\n",
       "      <td>0.007350</td>\n",
       "      <td>0.113523</td>\n",
       "      <td>0.003745</td>\n",
       "      <td>0.016538</td>\n",
       "      <td>0.016962</td>\n",
       "      <td>0.436090</td>\n",
       "      <td>0.868195</td>\n",
       "      <td>0.333333</td>\n",
       "      <td>0.253731</td>\n",
       "      <td>0.345238</td>\n",
       "      <td>0.542373</td>\n",
       "    </tr>\n",
       "    <tr>\n",
       "      <th>5</th>\n",
       "      <td>0.010822</td>\n",
       "      <td>0.011633</td>\n",
       "      <td>0.000818</td>\n",
       "      <td>0.010418</td>\n",
       "      <td>0.014081</td>\n",
       "      <td>0.789474</td>\n",
       "      <td>0.853868</td>\n",
       "      <td>0.400000</td>\n",
       "      <td>0.432836</td>\n",
       "      <td>0.857143</td>\n",
       "      <td>0.644068</td>\n",
       "    </tr>\n",
       "  </tbody>\n",
       "</table>\n",
       "</div>"
      ],
      "text/plain": [
       "    CA.Gluc  DHPAA.Gluc  TFA.Gluc  TFA.Sulfate  Ácido.Vanílico..VA.       IMC  \\\n",
       "1  0.854642    0.287856  0.003063     0.156336             0.132058  0.390977   \n",
       "2  0.020402    0.154252  0.011191     0.075332             0.019029  0.353383   \n",
       "3  0.018567    0.101799  0.073855     0.079011             0.014788  0.218045   \n",
       "4  0.007350    0.113523  0.003745     0.016538             0.016962  0.436090   \n",
       "5  0.010822    0.011633  0.000818     0.010418             0.014081  0.789474   \n",
       "\n",
       "      Grasa      IRCV     Bpmin     Bpmax      Frec  \n",
       "1  0.693410  0.266667  0.328358  0.345238  0.457627  \n",
       "2  0.710602  0.466667  0.238806  0.345238  0.372881  \n",
       "3  0.690544  0.133333  0.253731  0.345238  0.627119  \n",
       "4  0.868195  0.333333  0.253731  0.345238  0.542373  \n",
       "5  0.853868  0.400000  0.432836  0.857143  0.644068  "
      ]
     },
     "execution_count": 6,
     "metadata": {},
     "output_type": "execute_result"
    }
   ],
   "source": [
    "import numpy as np\n",
    "from sklearn.svm import SVR\n",
    "from sklearn.preprocessing import MinMaxScaler\n",
    "import matplotlib.pyplot as plt\n",
    "import pandas as pd\n",
    "\n",
    "url = \"data/OrinaAntLimpio.csv\"\n",
    "datos = pd.read_csv(url, encoding=\"unicode_escape\", index_col=[0])\n",
    "peso = datos[\"Peso\"]\n",
    "datos = datos.drop(\"Peso\", axis=1)\n",
    "#datos_num = datos.select_dtypes(include=np.number).drop(\"numVol\",1)\n",
    "\n",
    "# create a scaler object\n",
    "\n",
    "scaler = MinMaxScaler()\n",
    "\n",
    "#fit & transform the data\n",
    "\n",
    "#datos_norm = pd.DataFrame(scaler.fit_transform(datos_num), columns = datos_num.columns)\n",
    "#datos_norm = datos.apply(lambda x: scaler.fit_transform(x) if x[.name] not in [\"numVol\", \"Tiempo\", \"Endulzante\", \"Sexo\"] else x)\n",
    "numCols = datos.select_dtypes(include=np.number).drop(\"numVol\",1).columns\n",
    "datos[numCols] = scaler.fit_transform(datos[numCols])\n",
    "datosNum = datos[numCols]\n",
    "datosNum.head()"
   ]
  },
  {
   "cell_type": "code",
   "execution_count": 28,
   "metadata": {},
   "outputs": [],
   "source": [
    "X = datosNum\n",
    "y = peso \n",
    "\n",
    "# #############################################################################\n",
    "# Fit regression model\n",
    "svr_rbf = SVR(kernel=\"rbf\", C=100, gamma=0.1, epsilon=0.1)\n",
    "svr_lin = SVR(kernel=\"linear\", C=100, gamma=\"auto\")\n",
    "svr_poly = SVR(kernel=\"poly\", C=100, gamma=\"auto\", degree=3, epsilon=0.1, coef0=1)"
   ]
  },
  {
   "cell_type": "code",
   "execution_count": 46,
   "metadata": {},
   "outputs": [
    {
     "name": "stdout",
     "output_type": "stream",
     "text": [
      "5.140662846412083\n"
     ]
    },
    {
     "data": {
      "image/png": "[encoded data removed]",
      "text/plain": [
       "<Figure size 432x288 with 1 Axes>"
      ]
     },
     "metadata": {
      "needs_background": "light"
     },
     "output_type": "display_data"
    }
   ],
   "source": [
    "# #############################################################################\n",
    "# Look at the results\n",
    "lw = 2\n",
    "\n",
    "svrs = [svr_rbf, svr_lin, svr_poly]\n",
    "kernel_label = [\"RBF\", \"Linear\", \"Polynomial\"]\n",
    "\n",
    "modeloRBF = svr_rbf.fit(X,y)\n",
    "modeloLinear = svr_lin.fit(X,y)\n",
    "modeloPoly = svr_poly.fit(X,y)\n",
    "\n",
    "predictPesoRBF = modeloRBF.predict(X)\n",
    "\n",
    "plt.scatter(y, predictPesoRBF)\n",
    "\n",
    "from sklearn.metrics import mean_absolute_error, mean_squared_error\n",
    "\n",
    "print(mean_absolute_error(y, predictPesoRBF))"
   ]
  },
  {
   "cell_type": "code",
   "execution_count": 47,
   "metadata": {},
   "outputs": [
    {
     "name": "stdout",
     "output_type": "stream",
     "text": [
      "5.323191890702693\n"
     ]
    },
    {
     "data": {
      "image/png": "[encoded data removed]",
      "text/plain": [
       "<Figure size 432x288 with 1 Axes>"
      ]
     },
     "metadata": {
      "needs_background": "light"
     },
     "output_type": "display_data"
    }
   ],
   "source": [
    "predictPesoLinear = modeloLinear.predict(X)\n",
    "\n",
    "plt.scatter(y, predictPesoLinear)\n",
    "\n",
    "from sklearn.metrics import mean_absolute_error, mean_squared_error\n",
    "\n",
    "print(mean_absolute_error(y, predictPesoLinear))"
   ]
  },
  {
   "cell_type": "code",
   "execution_count": 48,
   "metadata": {},
   "outputs": [
    {
     "name": "stdout",
     "output_type": "stream",
     "text": [
      "5.098358093911571\n"
     ]
    },
    {
     "data": {
      "image/png": "[encoded data removed]",
      "text/plain": [
       "<Figure size 432x288 with 1 Axes>"
      ]
     },
     "metadata": {
      "needs_background": "light"
     },
     "output_type": "display_data"
    }
   ],
   "source": [
    "predictPesoPoly = modeloPoly.predict(X)\n",
    "\n",
    "plt.scatter(y, predictPesoPoly)\n",
    "\n",
    "from sklearn.metrics import mean_absolute_error, mean_squared_error\n",
    "\n",
    "print(mean_absolute_error(y, predictPesoPoly))"
   ]
  }
 ],
 "metadata": {
  "interpreter": {
   "hash": "be503a5d17d5d964293ad9a11725fc270bb523d366d69b0e63829d6fc602281e"
  },
  "kernelspec": {
   "display_name": "Python 3.9.7 64-bit ('deepLcurse': conda)",
   "language": "python",
   "name": "python3"
  },
  "language_info": {
   "codemirror_mode": {
    "name": "ipython",
    "version": 3
   },
   "file_extension": ".py",
   "mimetype": "text/x-python",
   "name": "python",
   "nbconvert_exporter": "python",
   "pygments_lexer": "ipython3",
   "version": "3.9.7"
  },
  "orig_nbformat": 4
 },
 "nbformat": 4,
 "nbformat_minor": 2
}
