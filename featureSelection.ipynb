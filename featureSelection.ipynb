{
 "cells": [
  {
   "cell_type": "code",
   "execution_count": 87,
   "metadata": {},
   "outputs": [
    {
     "ename": "ModuleNotFoundError",
     "evalue": "No module named 'main'",
     "output_type": "error",
     "traceback": [
      "\u001b[1;31m---------------------------------------------------------------------------\u001b[0m",
      "\u001b[1;31mModuleNotFoundError\u001b[0m                       Traceback (most recent call last)",
      "\u001b[1;32mc:\\Users\\dres2\\Documents\\repositories\\thirdArt\\featureSelection.ipynb Cell 1\u001b[0m line \u001b[0;36m1\n\u001b[1;32m----> <a href='vscode-notebook-cell:/c%3A/Users/dres2/Documents/repositories/thirdArt/featureSelection.ipynb#W0sZmlsZQ%3D%3D?line=0'>1</a>\u001b[0m \u001b[39mfrom\u001b[39;00m \u001b[39mmain\u001b[39;00m\u001b[39m.\u001b[39;00m\u001b[39mipynb\u001b[39;00m \u001b[39mimport\u001b[39;00m fullRead\n",
      "\u001b[1;31mModuleNotFoundError\u001b[0m: No module named 'main'"
     ]
    }
   ],
   "source": [
    "from sklearn.ensemble import RandomForestRegressor\n",
    "from sklearn.model_selection import cross_val_score\n",
    "from sklearn.model_selection import RepeatedKFold\n",
    "from sklearn.model_selection import GridSearchCV\n",
    "# import pickle\n",
    "\n",
    "param_grid = {\n",
    "    'bootstrap': [True],\n",
    "    'max_depth': [80, 90, 100, 110],\n",
    "    'max_features': [2, 3],\n",
    "    'min_samples_leaf': [3, 4, 5],\n",
    "    'min_samples_split': [8, 10, 12],\n",
    "    'n_estimators': [100, 200, 300, 1000]\n",
    "}\n",
    "\n",
    "# define model\n",
    "\n",
    "def randomForestReg(df, df_name, met = True):\n",
    "    \n",
    "    if (met):\n",
    "        \n",
    "        X_met, y_met, X_metTrain, X_metTest, y_metTrain, y_metTest, X_full, y_full, X_fullTrain, X_fullTest, y_fullTrain, y_fullTest = encodingSplitting(df)\n",
    "\n",
    "        model = RandomForestRegressor()\n",
    "\n",
    "        grid_search = GridSearchCV(estimator = model, param_grid = param_grid, \n",
    "                          cv = 3, n_jobs = -1, verbose = 2)\n",
    "\n",
    "        grid_search.fit(X_metTrain, y_metTrain)\n",
    "        best_grid = grid_search.best_estimator_\n",
    "        # define the evaluation procedure\n",
    "        cv = RepeatedKFold(n_splits=10, n_repeats=3, random_state=1)\n",
    "        # evaluate the model and collect the scores\n",
    "        n_scores = cross_val_score(best_grid, X_metTest, y_metTest, scoring='neg_mean_absolute_error', cv=cv, n_jobs=-1)\n",
    "        # force the scores to be positive\n",
    "        n_scores = np.absolute(n_scores)\n",
    "        # summarize performance\n",
    "\n",
    "        #filename = 'rf_met_plasmAnt.pkl'\n",
    "        #with open(filename, 'wb') as file:\n",
    "        #    pickle.dump(grid_search.best_estimator_, file)\n",
    "\n",
    "        print('Only Metabolic model ' + df_name + ': MAE: %.3f (%.3f)' % (np.mean(n_scores), np.std(n_scores)))\n",
    "        MAE = (np.mean(n_scores), np.std(n_scores))\n",
    "        return(best_grid, MAE)\n",
    "\n",
    "    else:\n",
    "            \n",
    "        X_met, y_met, X_metTrain, X_metTest, y_metTrain, y_metTest, X_full, y_full, X_fullTrain, X_fullTest, y_fullTrain, y_fullTest = encodingSplitting(df)\n",
    "\n",
    "        model = RandomForestRegressor()\n",
    "\n",
    "        grid_search = GridSearchCV(estimator = model, param_grid = param_grid, \n",
    "                        cv = 3, n_jobs = -1, verbose = 2)\n",
    "\n",
    "        grid_search.fit(X_fullTrain, y_fullTrain)\n",
    "        best_grid = grid_search.best_estimator_\n",
    "        # define the evaluation procedure\n",
    "        cv = RepeatedKFold(n_splits=10, n_repeats=3, random_state=1)\n",
    "        # evaluate the model and collect the scores\n",
    "        n_scores = cross_val_score(best_grid, X_fullTest, y_fullTest, scoring='neg_mean_absolute_error', cv=cv, n_jobs=-1)\n",
    "        # force the scores to be positive\n",
    "        n_scores = np.absolute(n_scores)\n",
    "        # summarize performance\n",
    "\n",
    "        #filename = 'rf_met_plasmAnt.pkl'\n",
    "        #with open(filename, 'wb') as file:\n",
    "        #    pickle.dump(grid_search.best_estimator_, file)\n",
    "\n",
    "        print('Full model ' + df_name + ': MAE: %.3f (%.3f)' % (np.mean(n_scores), np.std(n_scores)))\n",
    "        MAE = (np.mean(n_scores), np.std(n_scores))\n",
    "        return(best_grid, MAE)\n",
    "\n"
   ]
  },
  {
   "cell_type": "code",
   "execution_count": 84,
   "metadata": {},
   "outputs": [],
   "source": [
    "from sklearn.model_selection import RepeatedKFold\n",
    "from sklearn.model_selection import train_test_split\n",
    "from sklearn.preprocessing import OrdinalEncoder\n",
    " \n",
    "enc = OrdinalEncoder()\n",
    "enc.fit(df[[\"Sweetener\", \"Sex\", \"Time\"]])\n",
    "df[[\"Sweetener\", \"Sex\", \"Time\"]] = enc.transform(df[[\"Sweetener\", \"Sex\",  \"Time\"]])\n",
    "\n",
    "# Initial = 1, Final = 0\n",
    "\n",
    "X, y = df[df[\"Time\"] == 1].drop([\"numVol\", \"Time\"], axis=1), df[df[\"Time\"] == 0].drop(['Time','numVol', 'Sweetener', 'Time', 'Sex', 'Weight','BMI', 'Fat', 'CVRI', 'Bpmin', 'Bpmax', 'Frec'], axis = 1)\n",
    "X_train, X_test, y_train, y_test = train_test_split(X, y, test_size=0.2, random_state=42)\n",
    "X_full, y_full = df[df[\"Time\"] == 1].drop([\"numVol\", \"Time\"], axis=1), df[df[\"Time\"] == 0].drop(['Time','numVol', 'Sweetener', 'Time'], axis = 1)\n",
    "X_fulltrain, X_fulltest, y_fulltrain, y_fulltest = train_test_split(X_full, y_full, test_size=0.3, random_state=42)\n",
    "\n",
    "#X_test.to_csv(\"X_met_test_urineAnt.csv\", index=False)\n",
    "#X_fulltest.to_csv(\"X_full_test_urineAnt.csv\",index=False)"
   ]
  },
  {
   "cell_type": "code",
   "execution_count": 9,
   "metadata": {},
   "outputs": [
    {
     "name": "stderr",
     "output_type": "stream",
     "text": [
      "C:\\Users\\dres2\\AppData\\Local\\Temp\\ipykernel_10296\\3624912679.py:1: FutureWarning: In a future version of pandas all arguments of DataFrame.drop except for the argument 'labels' will be keyword-only.\n",
      "  df1Num = df[df.select_dtypes(include=np.number).drop(\"numVol\",1).columns]\n"
     ]
    },
    {
     "data": {
      "text/plain": [
       "Index(['CA', 'CA.G', 'CA.S', 'CA.GS', 'Total.CA', 'DHPAA', 'DHPAA.G',\n",
       "       'DHPAA.GG', 'DHPAA.GS', 'DHPAA.SS', 'Total.DHPAA', 'TFA.S',\n",
       "       'TFA.di.sulfate.1', 'Total.TFA', 'VA', 'VA.GG', 'VA.GS', 'VA.SS',\n",
       "       'Total.VA', 'Sweetener', 'Time', 'Sex', 'Weight', 'BMI', 'Fat', 'CVRI',\n",
       "       'Bpmin', 'Bpmax', 'Frec'],\n",
       "      dtype='object')"
      ]
     },
     "execution_count": 9,
     "metadata": {},
     "output_type": "execute_result"
    }
   ],
   "source": [
    "df1Num = df[df.select_dtypes(include=np.number).drop(\"numVol\",1).columns]\n",
    "\n",
    "from sklearn.feature_selection import VarianceThreshold\n",
    "selector = VarianceThreshold(0.005)\n",
    "selector.fit(df1Num)\n",
    "df1Num.columns[selector.get_support()]"
   ]
  },
  {
   "cell_type": "code",
   "execution_count": 14,
   "metadata": {},
   "outputs": [
    {
     "data": {
      "text/plain": [
       "Index(['CA.G', 'CA.S', 'CA.GS', 'TFA.di.sulfate.1', 'VA.GG'], dtype='object')"
      ]
     },
     "execution_count": 14,
     "metadata": {},
     "output_type": "execute_result"
    }
   ],
   "source": [
    "# 2. Univariate Feature Selection with SelectKBest\n",
    "\n",
    "#Divide the features into Independent and Dependent Variable\n",
    "X = df1Num.drop('CA' , axis =1)\n",
    "y = df1Num['CA']\n",
    "\n",
    "from sklearn.feature_selection import SelectKBest, mutual_info_regression\n",
    "\n",
    "selector = SelectKBest(mutual_info_regression, k =5)\n",
    "selector.fit(X, y)\n",
    "X.columns[selector.get_support()]"
   ]
  },
  {
   "cell_type": "code",
   "execution_count": 4,
   "metadata": {},
   "outputs": [
    {
     "data": {
      "text/plain": [
       "Index(['Weight', 'Fat'], dtype='object')"
      ]
     },
     "execution_count": 4,
     "metadata": {},
     "output_type": "execute_result"
    }
   ],
   "source": [
    "# 3. RFE Selector\n",
    "\n",
    "X = df1.drop(['Sex', \"Sweetener\", \"numVol\", \"Time\"] , axis =1)\n",
    "y = df1['Sex']\n",
    "\n",
    "from sklearn.feature_selection import RFE\n",
    "from sklearn.linear_model import LogisticRegression\n",
    "# #Selecting the Best important features according to Logistic Regression\n",
    "rfe_selector = RFE(estimator=LogisticRegression(),n_features_to_select = 2, step = 1)\n",
    "rfe_selector.fit(X, y)\n",
    "X.columns[rfe_selector.get_support()]"
   ]
  },
  {
   "cell_type": "code",
   "execution_count": 5,
   "metadata": {},
   "outputs": [
    {
     "data": {
      "text/plain": [
       "Index(['CA.GS', 'DHPAA', 'DHPAA.G', 'DHPAA.GG', 'TFA.G', 'TFA.S',\n",
       "       'TFA.di.sulfate.1', 'Total.TFA', 'VA.GS'],\n",
       "      dtype='object')"
      ]
     },
     "execution_count": 5,
     "metadata": {},
     "output_type": "execute_result"
    }
   ],
   "source": [
    "from sklearn.feature_selection import SelectFromModel\n",
    "\n",
    "X = df1.drop(['Sex', \"Sweetener\", \"numVol\", \"Time\"] , axis =1)\n",
    "y = df1['Sex']\n",
    "# #Selecting the Best important features according to Logistic Regression using SelectFromModel\n",
    "sfm_selector = SelectFromModel(estimator=LogisticRegression())\n",
    "sfm_selector.fit(X, y)\n",
    "X.columns[sfm_selector.get_support()]"
   ]
  },
  {
   "cell_type": "code",
   "execution_count": 6,
   "metadata": {},
   "outputs": [
    {
     "data": {
      "text/plain": [
       "Index(['CA.GS', 'TFA.di.sulfate.1', 'VA.GS'], dtype='object')"
      ]
     },
     "execution_count": 6,
     "metadata": {},
     "output_type": "execute_result"
    }
   ],
   "source": [
    "from sklearn.feature_selection import SequentialFeatureSelector\n",
    "#Selecting the Best important features according to Logistic Regression\n",
    "sfs_selector = SequentialFeatureSelector(estimator=LogisticRegression(), n_features_to_select = 3, cv =10, direction ='backward')\n",
    "sfs_selector.fit(X, y)\n",
    "X.columns[sfs_selector.get_support()]"
   ]
  },
  {
   "cell_type": "code",
   "execution_count": 60,
   "metadata": {},
   "outputs": [
    {
     "data": {
      "text/plain": [
       "<Axes: title={'center': 'Feature importance'}, xlabel='F score', ylabel='Features'>"
      ]
     },
     "execution_count": 60,
     "metadata": {},
     "output_type": "execute_result"
    },
    {
     "data": {
      "image/png": "[encoded data removed]",
      "text/plain": [
       "<Figure size 640x480 with 1 Axes>"
      ]
     },
     "metadata": {},
     "output_type": "display_data"
    }
   ],
   "source": []
  },
  {
   "cell_type": "code",
   "execution_count": 85,
   "metadata": {},
   "outputs": [
    {
     "name": "stdout",
     "output_type": "stream",
     "text": [
      "Index(['E', 'E.S', 'Total.E', 'HE.G', 'N.G', 'Sweetener', 'Sex', 'Weight',\n",
      "       'BMI', 'Fat', 'CVRI', 'Bpmin', 'Bpmax', 'Frec'],\n",
      "      dtype='object')\n",
      "Index(['E', 'E.S', 'Total.E', 'HE.G', 'N.G', 'Sweetener', 'Weight', 'BMI',\n",
      "       'Fat', 'CVRI', 'Bpmin', 'Bpmax', 'Frec'],\n",
      "      dtype='object')\n"
     ]
    },
    {
     "name": "stderr",
     "output_type": "stream",
     "text": [
      "c:\\Users\\dres2\\anaconda3\\Lib\\site-packages\\sklearn\\base.py:432: UserWarning: X has feature names, but SelectFromModel was fitted without feature names\n",
      "  warnings.warn(\n",
      "c:\\Users\\dres2\\anaconda3\\Lib\\site-packages\\sklearn\\base.py:432: UserWarning: X has feature names, but SelectFromModel was fitted without feature names\n",
      "  warnings.warn(\n",
      "c:\\Users\\dres2\\anaconda3\\Lib\\site-packages\\sklearn\\base.py:432: UserWarning: X has feature names, but SelectFromModel was fitted without feature names\n",
      "  warnings.warn(\n",
      "c:\\Users\\dres2\\anaconda3\\Lib\\site-packages\\sklearn\\base.py:432: UserWarning: X has feature names, but SelectFromModel was fitted without feature names\n",
      "  warnings.warn(\n"
     ]
    },
    {
     "name": "stdout",
     "output_type": "stream",
     "text": [
      "Index(['E', 'E.S', 'HE.G', 'N.G', 'Sweetener', 'Weight', 'BMI', 'Fat', 'CVRI',\n",
      "       'Bpmin', 'Bpmax', 'Frec'],\n",
      "      dtype='object')\n",
      "Index(['E', 'E.S', 'HE.G', 'Sweetener', 'Weight', 'BMI', 'Fat', 'CVRI',\n",
      "       'Bpmin', 'Bpmax', 'Frec'],\n",
      "      dtype='object')\n"
     ]
    },
    {
     "name": "stderr",
     "output_type": "stream",
     "text": [
      "c:\\Users\\dres2\\anaconda3\\Lib\\site-packages\\sklearn\\base.py:432: UserWarning: X has feature names, but SelectFromModel was fitted without feature names\n",
      "  warnings.warn(\n",
      "c:\\Users\\dres2\\anaconda3\\Lib\\site-packages\\sklearn\\base.py:432: UserWarning: X has feature names, but SelectFromModel was fitted without feature names\n",
      "  warnings.warn(\n",
      "c:\\Users\\dres2\\anaconda3\\Lib\\site-packages\\sklearn\\base.py:432: UserWarning: X has feature names, but SelectFromModel was fitted without feature names\n",
      "  warnings.warn(\n",
      "c:\\Users\\dres2\\anaconda3\\Lib\\site-packages\\sklearn\\base.py:432: UserWarning: X has feature names, but SelectFromModel was fitted without feature names\n",
      "  warnings.warn(\n",
      "c:\\Users\\dres2\\anaconda3\\Lib\\site-packages\\sklearn\\base.py:432: UserWarning: X has feature names, but SelectFromModel was fitted without feature names\n",
      "  warnings.warn(\n",
      "c:\\Users\\dres2\\anaconda3\\Lib\\site-packages\\sklearn\\base.py:432: UserWarning: X has feature names, but SelectFromModel was fitted without feature names\n",
      "  warnings.warn(\n",
      "c:\\Users\\dres2\\anaconda3\\Lib\\site-packages\\sklearn\\base.py:432: UserWarning: X has feature names, but SelectFromModel was fitted without feature names\n",
      "  warnings.warn(\n",
      "c:\\Users\\dres2\\anaconda3\\Lib\\site-packages\\sklearn\\base.py:432: UserWarning: X has feature names, but SelectFromModel was fitted without feature names\n",
      "  warnings.warn(\n"
     ]
    },
    {
     "name": "stdout",
     "output_type": "stream",
     "text": [
      "Index(['E', 'E.S', 'HE.G', 'Sweetener', 'Weight', 'BMI', 'Fat', 'Bpmin',\n",
      "       'Bpmax', 'Frec'],\n",
      "      dtype='object')\n",
      "Index(['E', 'E.S', 'HE.G', 'Weight', 'BMI', 'Fat', 'Bpmin', 'Bpmax', 'Frec'], dtype='object')\n",
      "Index(['E', 'E.S', 'HE.G', 'Weight', 'BMI', 'Fat', 'Bpmax', 'Frec'], dtype='object')\n",
      "Index(['E', 'E.S', 'HE.G', 'Weight', 'Fat', 'Bpmax', 'Frec'], dtype='object')\n"
     ]
    },
    {
     "name": "stderr",
     "output_type": "stream",
     "text": [
      "c:\\Users\\dres2\\anaconda3\\Lib\\site-packages\\sklearn\\base.py:432: UserWarning: X has feature names, but SelectFromModel was fitted without feature names\n",
      "  warnings.warn(\n",
      "c:\\Users\\dres2\\anaconda3\\Lib\\site-packages\\sklearn\\base.py:432: UserWarning: X has feature names, but SelectFromModel was fitted without feature names\n",
      "  warnings.warn(\n",
      "c:\\Users\\dres2\\anaconda3\\Lib\\site-packages\\sklearn\\base.py:432: UserWarning: X has feature names, but SelectFromModel was fitted without feature names\n",
      "  warnings.warn(\n",
      "c:\\Users\\dres2\\anaconda3\\Lib\\site-packages\\sklearn\\base.py:432: UserWarning: X has feature names, but SelectFromModel was fitted without feature names\n",
      "  warnings.warn(\n",
      "c:\\Users\\dres2\\anaconda3\\Lib\\site-packages\\sklearn\\base.py:432: UserWarning: X has feature names, but SelectFromModel was fitted without feature names\n",
      "  warnings.warn(\n",
      "c:\\Users\\dres2\\anaconda3\\Lib\\site-packages\\sklearn\\base.py:432: UserWarning: X has feature names, but SelectFromModel was fitted without feature names\n",
      "  warnings.warn(\n",
      "c:\\Users\\dres2\\anaconda3\\Lib\\site-packages\\sklearn\\base.py:432: UserWarning: X has feature names, but SelectFromModel was fitted without feature names\n",
      "  warnings.warn(\n"
     ]
    },
    {
     "name": "stdout",
     "output_type": "stream",
     "text": [
      "Index(['E', 'E.S', 'HE.G', 'Fat', 'Bpmax', 'Frec'], dtype='object')\n",
      "Index(['E', 'HE.G', 'Fat', 'Bpmax', 'Frec'], dtype='object')\n"
     ]
    },
    {
     "name": "stderr",
     "output_type": "stream",
     "text": [
      "c:\\Users\\dres2\\anaconda3\\Lib\\site-packages\\sklearn\\base.py:432: UserWarning: X has feature names, but SelectFromModel was fitted without feature names\n",
      "  warnings.warn(\n",
      "c:\\Users\\dres2\\anaconda3\\Lib\\site-packages\\sklearn\\base.py:432: UserWarning: X has feature names, but SelectFromModel was fitted without feature names\n",
      "  warnings.warn(\n",
      "c:\\Users\\dres2\\anaconda3\\Lib\\site-packages\\sklearn\\base.py:432: UserWarning: X has feature names, but SelectFromModel was fitted without feature names\n",
      "  warnings.warn(\n",
      "c:\\Users\\dres2\\anaconda3\\Lib\\site-packages\\sklearn\\base.py:432: UserWarning: X has feature names, but SelectFromModel was fitted without feature names\n",
      "  warnings.warn(\n"
     ]
    },
    {
     "name": "stdout",
     "output_type": "stream",
     "text": [
      "Index(['E', 'HE.G', 'Fat', 'Bpmax'], dtype='object')\n",
      "Index(['E', 'HE.G', 'Fat'], dtype='object')\n",
      "Index(['E', 'HE.G'], dtype='object')\n",
      "Index(['HE.G'], dtype='object')\n",
      "      thresh   n       MAE\n",
      "16  0.016620  14  0.065645\n",
      "17  0.018201  13  0.065580\n",
      "18  0.034894  12  0.065201\n",
      "19  0.036838  11  0.064944\n",
      "20  0.055470  10  0.067062\n",
      "21  0.059575   9  0.066301\n",
      "22  0.064682   8  0.069406\n",
      "23  0.064744   7  0.065572\n",
      "24  0.064968   6  0.067723\n",
      "25  0.068138   5  0.062560\n",
      "26  0.103400   4  0.067119\n",
      "27  0.115108   3  0.065457\n",
      "28  0.137425   2  0.059420\n",
      "29  0.159936   1  0.064163\n"
     ]
    },
    {
     "name": "stderr",
     "output_type": "stream",
     "text": [
      "c:\\Users\\dres2\\anaconda3\\Lib\\site-packages\\sklearn\\base.py:432: UserWarning: X has feature names, but SelectFromModel was fitted without feature names\n",
      "  warnings.warn(\n",
      "c:\\Users\\dres2\\anaconda3\\Lib\\site-packages\\sklearn\\base.py:432: UserWarning: X has feature names, but SelectFromModel was fitted without feature names\n",
      "  warnings.warn(\n",
      "c:\\Users\\dres2\\anaconda3\\Lib\\site-packages\\sklearn\\base.py:432: UserWarning: X has feature names, but SelectFromModel was fitted without feature names\n",
      "  warnings.warn(\n",
      "c:\\Users\\dres2\\anaconda3\\Lib\\site-packages\\sklearn\\base.py:432: UserWarning: X has feature names, but SelectFromModel was fitted without feature names\n",
      "  warnings.warn(\n",
      "c:\\Users\\dres2\\anaconda3\\Lib\\site-packages\\sklearn\\base.py:432: UserWarning: X has feature names, but SelectFromModel was fitted without feature names\n",
      "  warnings.warn(\n"
     ]
    }
   ],
   "source": [
    "from sklearn.feature_selection import SelectFromModel\n",
    "from sklearn.metrics import mean_absolute_error\n",
    "import numpy as np\n",
    "from xgboost import XGBRegressor\n",
    "\n",
    "model = XGBRegressor()\n",
    "model.fit(X_train, y_train)\n",
    "\n",
    "thresholds = np.sort(model.feature_importances_)\n",
    "results = pd.DataFrame()\n",
    "for thresh in thresholds:\n",
    " # select features using threshold\n",
    " selection = SelectFromModel(model, threshold=thresh, prefit=True)\n",
    " feature_idx = selection.get_support()\n",
    " print(X_train.columns[feature_idx])\n",
    " select_X_train = selection.transform(X_train)\n",
    " # train model\n",
    " selection_model = XGBRegressor()\n",
    " selection_model.fit(select_X_train, y_train)\n",
    " # eval model\n",
    " select_X_test = selection.transform(X_test)\n",
    " y_pred = selection_model.predict(select_X_test)\n",
    " predictions = [value for value in y_pred]\n",
    " mae = mean_absolute_error(y_test, predictions)\n",
    " result1 = pd.DataFrame({\"thresh\": thresh, \"n\":select_X_train.shape[1], \"MAE\":mae}, index = [30 - select_X_train.shape[1]])\n",
    " results = pd.concat([results, result1])\n",
    " #print(\"Thresh=%.3f, n=%d, MAE: %.4f\" % (thresh, select_X_train.shape[1], accuracy))\n",
    "\n",
    "print(results)"
   ]
  },
  {
   "cell_type": "code",
   "execution_count": 86,
   "metadata": {},
   "outputs": [
    {
     "name": "stdout",
     "output_type": "stream",
     "text": [
      "Index(['E', 'E.S', 'Total.E', 'HE.G', 'N.G', 'Sweetener', 'Sex', 'Weight',\n",
      "       'BMI', 'Fat', 'CVRI', 'Bpmin', 'Bpmax', 'Frec'],\n",
      "      dtype='object')\n"
     ]
    },
    {
     "name": "stderr",
     "output_type": "stream",
     "text": [
      "c:\\Users\\dres2\\anaconda3\\Lib\\site-packages\\sklearn\\base.py:432: UserWarning: X has feature names, but SelectFromModel was fitted without feature names\n",
      "  warnings.warn(\n",
      "c:\\Users\\dres2\\anaconda3\\Lib\\site-packages\\sklearn\\base.py:432: UserWarning: X has feature names, but SelectFromModel was fitted without feature names\n",
      "  warnings.warn(\n"
     ]
    },
    {
     "name": "stdout",
     "output_type": "stream",
     "text": [
      "Index(['E', 'E.S', 'Total.E', 'HE.G', 'N.G', 'Sweetener', 'Weight', 'BMI',\n",
      "       'Fat', 'CVRI', 'Bpmin', 'Bpmax', 'Frec'],\n",
      "      dtype='object')\n"
     ]
    },
    {
     "name": "stderr",
     "output_type": "stream",
     "text": [
      "c:\\Users\\dres2\\anaconda3\\Lib\\site-packages\\sklearn\\base.py:432: UserWarning: X has feature names, but SelectFromModel was fitted without feature names\n",
      "  warnings.warn(\n",
      "c:\\Users\\dres2\\anaconda3\\Lib\\site-packages\\sklearn\\base.py:432: UserWarning: X has feature names, but SelectFromModel was fitted without feature names\n",
      "  warnings.warn(\n"
     ]
    },
    {
     "name": "stdout",
     "output_type": "stream",
     "text": [
      "Index(['E', 'E.S', 'HE.G', 'N.G', 'Sweetener', 'Weight', 'BMI', 'Fat', 'CVRI',\n",
      "       'Bpmin', 'Bpmax', 'Frec'],\n",
      "      dtype='object')\n"
     ]
    },
    {
     "name": "stderr",
     "output_type": "stream",
     "text": [
      "c:\\Users\\dres2\\anaconda3\\Lib\\site-packages\\sklearn\\base.py:432: UserWarning: X has feature names, but SelectFromModel was fitted without feature names\n",
      "  warnings.warn(\n",
      "c:\\Users\\dres2\\anaconda3\\Lib\\site-packages\\sklearn\\base.py:432: UserWarning: X has feature names, but SelectFromModel was fitted without feature names\n",
      "  warnings.warn(\n"
     ]
    },
    {
     "name": "stdout",
     "output_type": "stream",
     "text": [
      "Index(['E', 'HE.G', 'N.G', 'Sweetener', 'Weight', 'BMI', 'Fat', 'CVRI',\n",
      "       'Bpmin', 'Bpmax', 'Frec'],\n",
      "      dtype='object')\n"
     ]
    },
    {
     "name": "stderr",
     "output_type": "stream",
     "text": [
      "c:\\Users\\dres2\\anaconda3\\Lib\\site-packages\\sklearn\\base.py:432: UserWarning: X has feature names, but SelectFromModel was fitted without feature names\n",
      "  warnings.warn(\n",
      "c:\\Users\\dres2\\anaconda3\\Lib\\site-packages\\sklearn\\base.py:432: UserWarning: X has feature names, but SelectFromModel was fitted without feature names\n",
      "  warnings.warn(\n"
     ]
    },
    {
     "name": "stdout",
     "output_type": "stream",
     "text": [
      "Index(['E', 'HE.G', 'N.G', 'Weight', 'BMI', 'Fat', 'CVRI', 'Bpmin', 'Bpmax',\n",
      "       'Frec'],\n",
      "      dtype='object')\n"
     ]
    },
    {
     "name": "stderr",
     "output_type": "stream",
     "text": [
      "c:\\Users\\dres2\\anaconda3\\Lib\\site-packages\\sklearn\\base.py:432: UserWarning: X has feature names, but SelectFromModel was fitted without feature names\n",
      "  warnings.warn(\n",
      "c:\\Users\\dres2\\anaconda3\\Lib\\site-packages\\sklearn\\base.py:432: UserWarning: X has feature names, but SelectFromModel was fitted without feature names\n",
      "  warnings.warn(\n"
     ]
    },
    {
     "name": "stdout",
     "output_type": "stream",
     "text": [
      "Index(['E', 'HE.G', 'N.G', 'Weight', 'BMI', 'Fat', 'CVRI', 'Bpmin', 'Bpmax'], dtype='object')\n"
     ]
    },
    {
     "name": "stderr",
     "output_type": "stream",
     "text": [
      "c:\\Users\\dres2\\anaconda3\\Lib\\site-packages\\sklearn\\base.py:432: UserWarning: X has feature names, but SelectFromModel was fitted without feature names\n",
      "  warnings.warn(\n",
      "c:\\Users\\dres2\\anaconda3\\Lib\\site-packages\\sklearn\\base.py:432: UserWarning: X has feature names, but SelectFromModel was fitted without feature names\n",
      "  warnings.warn(\n",
      "c:\\Users\\dres2\\anaconda3\\Lib\\site-packages\\sklearn\\base.py:432: UserWarning: X has feature names, but SelectFromModel was fitted without feature names\n",
      "  warnings.warn(\n"
     ]
    },
    {
     "name": "stdout",
     "output_type": "stream",
     "text": [
      "Index(['E', 'HE.G', 'N.G', 'Weight', 'BMI', 'Fat', 'Bpmin', 'Bpmax'], dtype='object')\n"
     ]
    },
    {
     "name": "stderr",
     "output_type": "stream",
     "text": [
      "c:\\Users\\dres2\\anaconda3\\Lib\\site-packages\\sklearn\\base.py:432: UserWarning: X has feature names, but SelectFromModel was fitted without feature names\n",
      "  warnings.warn(\n",
      "c:\\Users\\dres2\\anaconda3\\Lib\\site-packages\\sklearn\\base.py:432: UserWarning: X has feature names, but SelectFromModel was fitted without feature names\n",
      "  warnings.warn(\n"
     ]
    },
    {
     "name": "stdout",
     "output_type": "stream",
     "text": [
      "Index(['E', 'HE.G', 'N.G', 'Weight', 'Fat', 'Bpmin', 'Bpmax'], dtype='object')\n"
     ]
    },
    {
     "name": "stderr",
     "output_type": "stream",
     "text": [
      "c:\\Users\\dres2\\anaconda3\\Lib\\site-packages\\sklearn\\base.py:432: UserWarning: X has feature names, but SelectFromModel was fitted without feature names\n",
      "  warnings.warn(\n",
      "c:\\Users\\dres2\\anaconda3\\Lib\\site-packages\\sklearn\\base.py:432: UserWarning: X has feature names, but SelectFromModel was fitted without feature names\n",
      "  warnings.warn(\n"
     ]
    },
    {
     "name": "stdout",
     "output_type": "stream",
     "text": [
      "Index(['E', 'HE.G', 'N.G', 'Fat', 'Bpmin', 'Bpmax'], dtype='object')\n"
     ]
    },
    {
     "name": "stderr",
     "output_type": "stream",
     "text": [
      "c:\\Users\\dres2\\anaconda3\\Lib\\site-packages\\sklearn\\base.py:432: UserWarning: X has feature names, but SelectFromModel was fitted without feature names\n",
      "  warnings.warn(\n",
      "c:\\Users\\dres2\\anaconda3\\Lib\\site-packages\\sklearn\\base.py:432: UserWarning: X has feature names, but SelectFromModel was fitted without feature names\n",
      "  warnings.warn(\n"
     ]
    },
    {
     "name": "stdout",
     "output_type": "stream",
     "text": [
      "Index(['E', 'HE.G', 'N.G', 'Fat', 'Bpmin'], dtype='object')\n"
     ]
    },
    {
     "name": "stderr",
     "output_type": "stream",
     "text": [
      "c:\\Users\\dres2\\anaconda3\\Lib\\site-packages\\sklearn\\base.py:432: UserWarning: X has feature names, but SelectFromModel was fitted without feature names\n",
      "  warnings.warn(\n",
      "c:\\Users\\dres2\\anaconda3\\Lib\\site-packages\\sklearn\\base.py:432: UserWarning: X has feature names, but SelectFromModel was fitted without feature names\n",
      "  warnings.warn(\n",
      "c:\\Users\\dres2\\anaconda3\\Lib\\site-packages\\sklearn\\base.py:432: UserWarning: X has feature names, but SelectFromModel was fitted without feature names\n",
      "  warnings.warn(\n"
     ]
    },
    {
     "name": "stdout",
     "output_type": "stream",
     "text": [
      "Index(['HE.G', 'N.G', 'Fat', 'Bpmin'], dtype='object')\n",
      "Index(['HE.G', 'N.G', 'Bpmin'], dtype='object')\n"
     ]
    },
    {
     "name": "stderr",
     "output_type": "stream",
     "text": [
      "c:\\Users\\dres2\\anaconda3\\Lib\\site-packages\\sklearn\\base.py:432: UserWarning: X has feature names, but SelectFromModel was fitted without feature names\n",
      "  warnings.warn(\n",
      "c:\\Users\\dres2\\anaconda3\\Lib\\site-packages\\sklearn\\base.py:432: UserWarning: X has feature names, but SelectFromModel was fitted without feature names\n",
      "  warnings.warn(\n",
      "c:\\Users\\dres2\\anaconda3\\Lib\\site-packages\\sklearn\\base.py:432: UserWarning: X has feature names, but SelectFromModel was fitted without feature names\n",
      "  warnings.warn(\n"
     ]
    },
    {
     "name": "stdout",
     "output_type": "stream",
     "text": [
      "Index(['HE.G', 'N.G'], dtype='object')\n"
     ]
    },
    {
     "name": "stderr",
     "output_type": "stream",
     "text": [
      "c:\\Users\\dres2\\anaconda3\\Lib\\site-packages\\sklearn\\base.py:432: UserWarning: X has feature names, but SelectFromModel was fitted without feature names\n",
      "  warnings.warn(\n",
      "c:\\Users\\dres2\\anaconda3\\Lib\\site-packages\\sklearn\\base.py:432: UserWarning: X has feature names, but SelectFromModel was fitted without feature names\n",
      "  warnings.warn(\n"
     ]
    },
    {
     "name": "stdout",
     "output_type": "stream",
     "text": [
      "Index(['HE.G'], dtype='object')\n",
      "      thresh   n       MAE\n",
      "16  0.006328  14  0.057022\n",
      "17  0.021449  13  0.059633\n",
      "18  0.030914  12  0.057402\n",
      "19  0.035002  11  0.059542\n",
      "20  0.051101  10  0.059265\n",
      "21  0.064657   9  0.058500\n",
      "22  0.073626   8  0.059478\n",
      "23  0.078158   7  0.060532\n",
      "24  0.082583   6  0.062865\n",
      "25  0.089350   5  0.064209\n",
      "26  0.094154   4  0.060081\n",
      "27  0.101714   3  0.064947\n",
      "28  0.120238   2  0.068160\n",
      "29  0.150725   1  0.056302\n"
     ]
    },
    {
     "name": "stderr",
     "output_type": "stream",
     "text": [
      "c:\\Users\\dres2\\anaconda3\\Lib\\site-packages\\sklearn\\base.py:432: UserWarning: X has feature names, but SelectFromModel was fitted without feature names\n",
      "  warnings.warn(\n"
     ]
    }
   ],
   "source": [
    "from sklearn.feature_selection import SelectFromModel\n",
    "from sklearn.metrics import mean_absolute_error\n",
    "from sklearn.ensemble import RandomForestRegressor\n",
    "import numpy as np\n",
    "\n",
    "modelRF = RandomForestRegressor()\n",
    "modelRF.fit(X_train, y_train)\n",
    "\n",
    "thresholds = np.sort(modelRF.feature_importances_)\n",
    "results = pd.DataFrame()\n",
    "for thresh in thresholds:\n",
    " # select features using threshold\n",
    " selection = SelectFromModel(modelRF, threshold=thresh, prefit=True)\n",
    " feature_idx = selection.get_support()\n",
    " print(X_train.columns[feature_idx])\n",
    " select_X_train = selection.transform(X_train)\n",
    " # train model\n",
    " selection_model = RandomForestRegressor()\n",
    " selection_model.fit(select_X_train, y_train)\n",
    " # eval model\n",
    " select_X_test = selection.transform(X_test)\n",
    " y_pred = selection_model.predict(select_X_test)\n",
    " predictions = [value for value in y_pred]\n",
    " mae = mean_absolute_error(y_test, predictions)\n",
    " result1 = pd.DataFrame({\"thresh\": thresh, \"n\":select_X_train.shape[1], \"MAE\":mae}, index = [30 - select_X_train.shape[1]])\n",
    " results = pd.concat([results, result1])\n",
    " #print(\"Thresh=%.3f, n=%d, MAE: %.4f\" % (thresh, select_X_train.shape[1], accuracy))\n",
    "\n",
    "print(results)"
   ]
  },
  {
   "cell_type": "code",
   "execution_count": 75,
   "metadata": {},
   "outputs": [
    {
     "ename": "AttributeError",
     "evalue": "'SelectFromModel' object has no attribute 'feature_names_in_'",
     "output_type": "error",
     "traceback": [
      "\u001b[1;31m---------------------------------------------------------------------------\u001b[0m",
      "\u001b[1;31mAttributeError\u001b[0m                            Traceback (most recent call last)",
      "\u001b[1;32mc:\\Users\\dres2\\Documents\\repositories\\thirdArt\\featureSelection.ipynb Cell 10\u001b[0m line \u001b[0;36m1\n\u001b[1;32m----> <a href='vscode-notebook-cell:/c%3A/Users/dres2/Documents/repositories/thirdArt/featureSelection.ipynb#X13sZmlsZQ%3D%3D?line=0'>1</a>\u001b[0m selection\u001b[39m.\u001b[39mfeature_names_in_\n",
      "\u001b[1;31mAttributeError\u001b[0m: 'SelectFromModel' object has no attribute 'feature_names_in_'"
     ]
    }
   ],
   "source": []
  },
  {
   "cell_type": "code",
   "execution_count": 62,
   "metadata": {},
   "outputs": [
    {
     "data": {
      "image/png": "[encoded data removed]",
      "text/plain": [
       "<Figure size 640x480 with 1 Axes>"
      ]
     },
     "metadata": {},
     "output_type": "display_data"
    }
   ],
   "source": [
    "from matplotlib import pyplot\n",
    "\n",
    "pyplot.bar(results[\"n\"], results[\"MAE\"])\n",
    "pyplot.show()"
   ]
  }
 ],
 "metadata": {
  "kernelspec": {
   "display_name": "base",
   "language": "python",
   "name": "python3"
  },
  "language_info": {
   "codemirror_mode": {
    "name": "ipython",
    "version": 3
   },
   "file_extension": ".py",
   "mimetype": "text/x-python",
   "name": "python",
   "nbconvert_exporter": "python",
   "pygments_lexer": "ipython3",
   "version": "3.11.3"
  },
  "orig_nbformat": 4
 },
 "nbformat": 4,
 "nbformat_minor": 2
}
