{
 "cells": [
  {
   "cell_type": "code",
   "execution_count": 1,
   "metadata": {},
   "outputs": [
    {
     "ename": "OSError",
     "evalue": "[WinError 127] No se encontró el proceso especificado. Error loading \"c:\\ProgramData\\Anaconda3\\lib\\site-packages\\torch\\lib\\caffe2_detectron_ops.dll\" or one of its dependencies.",
     "output_type": "error",
     "traceback": [
      "\u001b[1;31m---------------------------------------------------------------------------\u001b[0m",
      "\u001b[1;31mOSError\u001b[0m                                   Traceback (most recent call last)",
      "Cell \u001b[1;32mIn[1], line 8\u001b[0m\n\u001b[0;32m      5\u001b[0m \u001b[39mfrom\u001b[39;00m \u001b[39msklearn\u001b[39;00m\u001b[39m.\u001b[39;00m\u001b[39mmodel_selection\u001b[39;00m \u001b[39mimport\u001b[39;00m train_test_split\n\u001b[0;32m      6\u001b[0m \u001b[39mfrom\u001b[39;00m \u001b[39msklearn\u001b[39;00m\u001b[39m.\u001b[39;00m\u001b[39mpreprocessing\u001b[39;00m \u001b[39mimport\u001b[39;00m OrdinalEncoder\n\u001b[1;32m----> 8\u001b[0m \u001b[39mfrom\u001b[39;00m \u001b[39mtabpfn\u001b[39;00m \u001b[39mimport\u001b[39;00m TabPFNClassifier\n",
      "File \u001b[1;32m~\\AppData\\Roaming\\Python\\Python39\\site-packages\\tabpfn\\__init__.py:1\u001b[0m\n\u001b[1;32m----> 1\u001b[0m \u001b[39mfrom\u001b[39;00m \u001b[39mtabpfn\u001b[39;00m\u001b[39m.\u001b[39;00m\u001b[39mscripts\u001b[39;00m\u001b[39m.\u001b[39;00m\u001b[39mtransformer_prediction_interface\u001b[39;00m \u001b[39mimport\u001b[39;00m TabPFNClassifier\n",
      "File \u001b[1;32m~\\AppData\\Roaming\\Python\\Python39\\site-packages\\tabpfn\\scripts\\transformer_prediction_interface.py:1\u001b[0m\n\u001b[1;32m----> 1\u001b[0m \u001b[39mimport\u001b[39;00m \u001b[39mtorch\u001b[39;00m\n\u001b[0;32m      2\u001b[0m \u001b[39mimport\u001b[39;00m \u001b[39mrandom\u001b[39;00m\n\u001b[0;32m      3\u001b[0m \u001b[39mimport\u001b[39;00m \u001b[39mpathlib\u001b[39;00m\n",
      "File \u001b[1;32mc:\\ProgramData\\Anaconda3\\lib\\site-packages\\torch\\__init__.py:129\u001b[0m\n\u001b[0;32m    127\u001b[0m     err \u001b[39m=\u001b[39m ctypes\u001b[39m.\u001b[39mWinError(last_error)\n\u001b[0;32m    128\u001b[0m     err\u001b[39m.\u001b[39mstrerror \u001b[39m+\u001b[39m\u001b[39m=\u001b[39m \u001b[39mf\u001b[39m\u001b[39m'\u001b[39m\u001b[39m Error loading \u001b[39m\u001b[39m\"\u001b[39m\u001b[39m{\u001b[39;00mdll\u001b[39m}\u001b[39;00m\u001b[39m\"\u001b[39m\u001b[39m or one of its dependencies.\u001b[39m\u001b[39m'\u001b[39m\n\u001b[1;32m--> 129\u001b[0m     \u001b[39mraise\u001b[39;00m err\n\u001b[0;32m    130\u001b[0m \u001b[39melif\u001b[39;00m res \u001b[39mis\u001b[39;00m \u001b[39mnot\u001b[39;00m \u001b[39mNone\u001b[39;00m:\n\u001b[0;32m    131\u001b[0m     is_loaded \u001b[39m=\u001b[39m \u001b[39mTrue\u001b[39;00m\n",
      "\u001b[1;31mOSError\u001b[0m: [WinError 127] No se encontró el proceso especificado. Error loading \"c:\\ProgramData\\Anaconda3\\lib\\site-packages\\torch\\lib\\caffe2_detectron_ops.dll\" or one of its dependencies."
     ]
    }
   ],
   "source": [
    "import pandas as pd\n",
    "from readFiles import fullRead\n",
    "from sklearn.metrics import accuracy_score\n",
    "from sklearn.datasets import load_breast_cancer\n",
    "from sklearn.model_selection import train_test_split\n",
    "from sklearn.preprocessing import OrdinalEncoder\n",
    "\n",
    "from tabpfn import TabPFNClassifier"
   ]
  },
  {
   "cell_type": "code",
   "execution_count": null,
   "metadata": {},
   "outputs": [],
   "source": [
    "def predictSex(pathToTable):\n",
    "    df = fullRead(pathToTable)\n",
    "    enc = OrdinalEncoder()\n",
    "    enc.fit(df[[\"Sweetener\", \"Time\"]])\n",
    "    df[[\"Sweetener\", \"Time\"]] = enc.transform(df[[\"Sweetener\", \"Time\"]])\n",
    "    X, y = df.drop([\"numVol\", \"Sex\"], axis=1), df[\"Sex\"]\n",
    "\n",
    "    X_train, X_test, y_train, y_test = train_test_split(X, y, test_size=0.33, random_state=42)\n",
    "\n",
    "    classifier = TabPFNClassifier(device='cpu', N_ensemble_configurations=32)\n",
    "\n",
    "    classifier.fit(X_train, y_train)\n",
    "    y_eval, p_eval = classifier.predict(X_test, return_winning_probability=True)\n",
    "\n",
    "    print('Accuracy in sex clasiffication', pathToTable, accuracy_score(y_test, y_eval))\n",
    "\n",
    "def predictSweet(pathToTable):\n",
    "    df = fullRead(pathToTable, anthro=True)\n",
    "    df = df[df[\"Time\"] == \"Final\"]\n",
    "    enc = OrdinalEncoder()\n",
    "    enc.fit(df[[\"Sex\"]])\n",
    "    df[[\"Sex\"]] = enc.transform(df[[\"Sex\"]])\n",
    "    X, y = df.drop([\"numVol\", \"Sweetener\", \"Time\"], axis=1), df[\"Sweetener\"]\n",
    "\n",
    "    X_train, X_test, y_train, y_test = train_test_split(X, y, test_size=0.33, random_state=42)\n",
    "\n",
    "    classifier = TabPFNClassifier(device='cpu', N_ensemble_configurations=32)\n",
    "\n",
    "    classifier.fit(X_train, y_train)\n",
    "    y_eval, p_eval = classifier.predict(X_test, return_winning_probability=True)\n",
    "\n",
    "    print('Accuracy in sweetener clasiffication', pathToTable, accuracy_score(y_test, y_eval))    "
   ]
  },
  {
   "cell_type": "code",
   "execution_count": null,
   "metadata": {},
   "outputs": [
    {
     "name": "stdout",
     "output_type": "stream",
     "text": [
      "Loading model that can be used for inference only\n",
      "Using a Transformer with 25.82 M parameters\n",
      "Accuracy in sex clasiffication data/urineFlav_ord.csv 0.6024096385542169\n",
      "Loading model that can be used for inference only\n",
      "Using a Transformer with 25.82 M parameters\n",
      "Accuracy in sweetener clasiffication data/urineFlav_ord.csv 0.5476190476190477\n",
      "Loading model that can be used for inference only\n",
      "Using a Transformer with 25.82 M parameters\n",
      "Accuracy in sex clasiffication data/urineAnt_ord.csv 0.6746987951807228\n",
      "Loading model that can be used for inference only\n",
      "Using a Transformer with 25.82 M parameters\n",
      "Accuracy in sweetener clasiffication data/urineAnt_ord.csv 0.47619047619047616\n",
      "Loading model that can be used for inference only\n",
      "Using a Transformer with 25.82 M parameters\n",
      "Accuracy in sex clasiffication data/plasmFlav_ord.csv 0.4878048780487805\n",
      "Loading model that can be used for inference only\n",
      "Using a Transformer with 25.82 M parameters\n",
      "Accuracy in sweetener clasiffication data/plasmFlav_ord.csv 0.3170731707317073\n",
      "Loading model that can be used for inference only\n",
      "Using a Transformer with 25.82 M parameters\n",
      "Accuracy in sex clasiffication data/plasmAnt_ord.csv 0.4878048780487805\n",
      "Loading model that can be used for inference only\n",
      "Using a Transformer with 25.82 M parameters\n",
      "Accuracy in sweetener clasiffication data/plasmAnt_ord.csv 0.5121951219512195\n"
     ]
    }
   ],
   "source": [
    "predictSex(\"data/urineFlav_ord.csv\")\n",
    "predictSweet(\"data/urineFlav_ord.csv\")\n",
    "predictSex(\"data/urineAnt_ord.csv\")\n",
    "predictSweet(\"data/urineAnt_ord.csv\")\n",
    "predictSex(\"data/plasmFlav_ord.csv\")\n",
    "predictSweet(\"data/plasmFlav_ord.csv\")\n",
    "predictSex(\"data/plasmAnt_ord.csv\")\n",
    "predictSweet(\"data/plasmAnt_ord.csv\")"
   ]
  }
 ],
 "metadata": {
  "kernelspec": {
   "display_name": "base",
   "language": "python",
   "name": "python3"
  },
  "language_info": {
   "codemirror_mode": {
    "name": "ipython",
    "version": 3
   },
   "file_extension": ".py",
   "mimetype": "text/x-python",
   "name": "python",
   "nbconvert_exporter": "python",
   "pygments_lexer": "ipython3",
   "version": "3.9.7"
  },
  "orig_nbformat": 4,
  "vscode": {
   "interpreter": {
    "hash": "ad2bdc8ecc057115af97d19610ffacc2b4e99fae6737bb82f5d7fb13d2f2c186"
   }
  }
 },
 "nbformat": 4,
 "nbformat_minor": 2
}
