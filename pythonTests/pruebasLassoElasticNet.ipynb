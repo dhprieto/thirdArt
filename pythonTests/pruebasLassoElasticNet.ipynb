{
 "cells": [
  {
   "cell_type": "code",
   "execution_count": 37,
   "metadata": {},
   "outputs": [],
   "source": [
    "from sklearn import linear_model\n",
    "from sklearn.preprocessing import MinMaxScaler\n",
    "import pandas as pd\n",
    "import numpy as np\n",
    "import matplotlib.pyplot as plt\n",
    "\n",
    "from sklearn.metrics import r2_score"
   ]
  },
  {
   "cell_type": "code",
   "execution_count": 34,
   "metadata": {},
   "outputs": [
    {
     "name": "stderr",
     "output_type": "stream",
     "text": [
      "C:\\Users\\CRISTI~1\\AppData\\Local\\Temp/ipykernel_15484/2886723892.py:15: FutureWarning: In a future version of pandas all arguments of DataFrame.drop except for the argument 'labels' will be keyword-only\n",
      "  numCols = datos.select_dtypes(include=np.number).drop(\"numVol\",1).columns\n"
     ]
    }
   ],
   "source": [
    "url = \"data/OrinaAntLimpio.csv\"\n",
    "datos = pd.read_csv(url, encoding=\"unicode_escape\", index_col=[0])\n",
    "peso = datos[\"Peso\"]\n",
    "datos = datos.drop(\"Peso\", axis=1)\n",
    "#datos_num = datos.select_dtypes(include=np.number).drop(\"numVol\",1)\n",
    "\n",
    "# create a scaler object\n",
    "\n",
    "scaler = MinMaxScaler()\n",
    "\n",
    "#fit & transform the data\n",
    "\n",
    "#datos_norm = pd.DataFrame(scaler.fit_transform(datos_num), columns = datos_num.columns)\n",
    "#datos_norm = datos.apply(lambda x: scaler.fit_transform(x) if x[.name] not in [\"numVol\", \"Tiempo\", \"Endulzante\", \"Sexo\"] else x)\n",
    "numCols = datos.select_dtypes(include=np.number).drop(\"numVol\",1).columns\n",
    "datos[numCols] = scaler.fit_transform(datos[numCols])\n",
    "datosNum = datos[numCols]"
   ]
  },
  {
   "cell_type": "code",
   "execution_count": 35,
   "metadata": {},
   "outputs": [],
   "source": [
    "n_samples = datosNum.shape[0]\n",
    "X_train, y_train = datosNum[: n_samples // 2], peso[: n_samples // 2]\n",
    "X_test, y_test = datosNum[n_samples // 2 :], peso[n_samples // 2 :]"
   ]
  },
  {
   "cell_type": "code",
   "execution_count": 38,
   "metadata": {},
   "outputs": [
    {
     "name": "stdout",
     "output_type": "stream",
     "text": [
      "Lasso(alpha=0.1)\n",
      "r^2 on test data : 0.652942\n"
     ]
    }
   ],
   "source": [
    "from sklearn.linear_model import Lasso\n",
    "\n",
    "alpha = 0.1\n",
    "lasso = Lasso(alpha=alpha)\n",
    "\n",
    "y_pred_lasso = lasso.fit(X_train, y_train).predict(X_test)\n",
    "r2_score_lasso = r2_score(y_test, y_pred_lasso)\n",
    "print(lasso)\n",
    "print(\"r^2 on test data : %f\" % r2_score_lasso)"
   ]
  },
  {
   "cell_type": "code",
   "execution_count": 40,
   "metadata": {},
   "outputs": [
    {
     "name": "stdout",
     "output_type": "stream",
     "text": [
      "ElasticNet(alpha=0.1, l1_ratio=0.7)\n",
      "r^2 on test data : 0.564193\n"
     ]
    }
   ],
   "source": [
    "from sklearn.linear_model import ElasticNet\n",
    "\n",
    "enet = ElasticNet(alpha=alpha, l1_ratio=0.7)\n",
    "\n",
    "y_pred_enet = enet.fit(X_train, y_train).predict(X_test)\n",
    "r2_score_enet = r2_score(y_test, y_pred_enet)\n",
    "print(enet)\n",
    "print(\"r^2 on test data : %f\" % r2_score_enet)\n"
   ]
  }
 ],
 "metadata": {
  "interpreter": {
   "hash": "be503a5d17d5d964293ad9a11725fc270bb523d366d69b0e63829d6fc602281e"
  },
  "kernelspec": {
   "display_name": "Python 3.9.7 64-bit ('deepLcurse': conda)",
   "language": "python",
   "name": "python3"
  },
  "language_info": {
   "codemirror_mode": {
    "name": "ipython",
    "version": 3
   },
   "file_extension": ".py",
   "mimetype": "text/x-python",
   "name": "python",
   "nbconvert_exporter": "python",
   "pygments_lexer": "ipython3",
   "version": "3.9.7"
  },
  "orig_nbformat": 4
 },
 "nbformat": 4,
 "nbformat_minor": 2
}
