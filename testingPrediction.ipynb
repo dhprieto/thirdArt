{
 "cells": [
  {
   "cell_type": "code",
   "execution_count": 5,
   "metadata": {},
   "outputs": [],
   "source": [
    "import pandas as pd\n",
    "from readFiles import fullRead\n",
    "from sklearn.metrics import accuracy_score\n",
    "from sklearn.datasets import load_breast_cancer\n",
    "from sklearn.model_selection import train_test_split\n",
    "from sklearn.preprocessing import OrdinalEncoder\n",
    "\n",
    "from tabpfn import TabPFNClassifier"
   ]
  },
  {
   "cell_type": "code",
   "execution_count": 6,
   "metadata": {},
   "outputs": [],
   "source": [
    "def predictSex(pathToTable):\n",
    "    df = fullRead(pathToTable)\n",
    "    enc = OrdinalEncoder()\n",
    "    enc.fit(df[[\"Sweetener\", \"Time\"]])\n",
    "    df[[\"Sweetener\", \"Time\"]] = enc.transform(df[[\"Sweetener\", \"Time\"]])\n",
    "    X, y = df.drop([\"numVol\", \"Sex\"], axis=1), df[\"Sex\"]\n",
    "\n",
    "    X_train, X_test, y_train, y_test = train_test_split(X, y, test_size=0.33, random_state=42)\n",
    "\n",
    "    classifier = TabPFNClassifier(device='cpu', N_ensemble_configurations=32)\n",
    "\n",
    "    classifier.fit(X_train, y_train)\n",
    "    y_eval, p_eval = classifier.predict(X_test, return_winning_probability=True)\n",
    "\n",
    "    print('Accuracy in sex clasiffication', pathToTable, accuracy_score(y_test, y_eval))\n",
    "\n",
    "def predictSweet(pathToTable):\n",
    "    df = fullRead(pathToTable, anthro=True)\n",
    "    df = df[df[\"Time\"] == \"Final\"]\n",
    "    enc = OrdinalEncoder()\n",
    "    enc.fit(df[[\"Sex\"]])\n",
    "    df[[\"Sex\"]] = enc.transform(df[[\"Sex\"]])\n",
    "    X, y = df.drop([\"numVol\", \"Sweetener\", \"Time\"], axis=1), df[\"Sweetener\"]\n",
    "\n",
    "    X_train, X_test, y_train, y_test = train_test_split(X, y, test_size=0.33, random_state=42)\n",
    "\n",
    "    classifier = TabPFNClassifier(device='cpu', N_ensemble_configurations=32)\n",
    "\n",
    "    classifier.fit(X_train, y_train)\n",
    "    y_eval, p_eval = classifier.predict(X_test, return_winning_probability=True)\n",
    "\n",
    "    print('Accuracy in sweetener clasiffication', pathToTable, accuracy_score(y_test, y_eval))    "
   ]
  },
  {
   "cell_type": "code",
   "execution_count": 7,
   "metadata": {},
   "outputs": [
    {
     "name": "stdout",
     "output_type": "stream",
     "text": [
      "Loading model that can be used for inference only\n",
      "Using a Transformer with 25.82 M parameters\n",
      "Accuracy in sex clasiffication data/urineFlav_ord.csv 0.6024096385542169\n",
      "Loading model that can be used for inference only\n",
      "Using a Transformer with 25.82 M parameters\n",
      "Accuracy in sweetener clasiffication data/urineFlav_ord.csv 0.5476190476190477\n",
      "Loading model that can be used for inference only\n",
      "Using a Transformer with 25.82 M parameters\n",
      "Accuracy in sex clasiffication data/urineAnt_ord.csv 0.6746987951807228\n",
      "Loading model that can be used for inference only\n",
      "Using a Transformer with 25.82 M parameters\n",
      "Accuracy in sweetener clasiffication data/urineAnt_ord.csv 0.47619047619047616\n",
      "Loading model that can be used for inference only\n",
      "Using a Transformer with 25.82 M parameters\n",
      "Accuracy in sex clasiffication data/plasmFlav_ord.csv 0.4878048780487805\n",
      "Loading model that can be used for inference only\n",
      "Using a Transformer with 25.82 M parameters\n",
      "Accuracy in sweetener clasiffication data/plasmFlav_ord.csv 0.3170731707317073\n",
      "Loading model that can be used for inference only\n",
      "Using a Transformer with 25.82 M parameters\n",
      "Accuracy in sex clasiffication data/plasmAnt_ord.csv 0.4878048780487805\n",
      "Loading model that can be used for inference only\n",
      "Using a Transformer with 25.82 M parameters\n",
      "Accuracy in sweetener clasiffication data/plasmAnt_ord.csv 0.5121951219512195\n"
     ]
    }
   ],
   "source": [
    "predictSex(\"data/urineFlav_ord.csv\")\n",
    "predictSweet(\"data/urineFlav_ord.csv\")\n",
    "predictSex(\"data/urineAnt_ord.csv\")\n",
    "predictSweet(\"data/urineAnt_ord.csv\")\n",
    "predictSex(\"data/plasmFlav_ord.csv\")\n",
    "predictSweet(\"data/plasmFlav_ord.csv\")\n",
    "predictSex(\"data/plasmAnt_ord.csv\")\n",
    "predictSweet(\"data/plasmAnt_ord.csv\")"
   ]
  },
  {
   "cell_type": "code",
   "execution_count": 8,
   "metadata": {},
   "outputs": [
    {
     "name": "stdout",
     "output_type": "stream",
     "text": [
      "Collecting git+https://github.com/tusharsarkar3/XBNet.gitNote: you may need to restart the kernel to use updated packages.\n",
      "\n",
      "  Cloning https://github.com/tusharsarkar3/XBNet.git to c:\\users\\cristina garcía\\appdata\\local\\temp\\pip-req-build-0y3c_1na\n",
      "  Resolved https://github.com/tusharsarkar3/XBNet.git to commit 2b771d6beb9f15ae48e2a365f46d6f996811086f\n",
      "Collecting sklearn==0.0\n",
      "  Using cached sklearn-0.0.tar.gz (1.1 kB)\n",
      "Collecting numpy==1.22.0\n",
      "  Downloading numpy-1.22.0-cp39-cp39-win_amd64.whl (14.7 MB)\n",
      "Collecting pandas==1.3.3\n",
      "  Downloading pandas-1.3.3-cp39-cp39-win_amd64.whl (10.2 MB)\n",
      "Requirement already satisfied: matplotlib==3.4.3 in c:\\programdata\\anaconda3\\lib\\site-packages (from XBNet==1.4.6) (3.4.3)\n",
      "Collecting torch==1.9.0\n",
      "  Downloading torch-1.9.0-cp39-cp39-win_amd64.whl (222.0 MB)\n",
      "Collecting xgboost==1.4.2\n",
      "  Downloading xgboost-1.4.2-py3-none-win_amd64.whl (97.8 MB)\n",
      "Collecting tqdm==4.62.2\n",
      "  Downloading tqdm-4.62.2-py2.py3-none-any.whl (76 kB)\n",
      "Requirement already satisfied: pillow>=6.2.0 in c:\\programdata\\anaconda3\\lib\\site-packages (from matplotlib==3.4.3->XBNet==1.4.6) (8.4.0)\n",
      "Requirement already satisfied: cycler>=0.10 in c:\\programdata\\anaconda3\\lib\\site-packages (from matplotlib==3.4.3->XBNet==1.4.6) (0.10.0)\n",
      "Requirement already satisfied: python-dateutil>=2.7 in c:\\programdata\\anaconda3\\lib\\site-packages (from matplotlib==3.4.3->XBNet==1.4.6) (2.8.2)\n",
      "Requirement already satisfied: pyparsing>=2.2.1 in c:\\programdata\\anaconda3\\lib\\site-packages (from matplotlib==3.4.3->XBNet==1.4.6) (3.0.4)\n",
      "Requirement already satisfied: kiwisolver>=1.0.1 in c:\\programdata\\anaconda3\\lib\\site-packages (from matplotlib==3.4.3->XBNet==1.4.6) (1.3.1)\n",
      "Requirement already satisfied: pytz>=2017.3 in c:\\programdata\\anaconda3\\lib\\site-packages (from pandas==1.3.3->XBNet==1.4.6) (2021.3)\n",
      "Requirement already satisfied: scikit-learn in c:\\programdata\\anaconda3\\lib\\site-packages (from sklearn==0.0->XBNet==1.4.6) (0.24.2)\n",
      "Requirement already satisfied: typing-extensions in c:\\programdata\\anaconda3\\lib\\site-packages (from torch==1.9.0->XBNet==1.4.6) (4.4.0)\n",
      "Requirement already satisfied: colorama in c:\\programdata\\anaconda3\\lib\\site-packages (from tqdm==4.62.2->XBNet==1.4.6) (0.4.6)\n",
      "Requirement already satisfied: scipy in c:\\programdata\\anaconda3\\lib\\site-packages (from xgboost==1.4.2->XBNet==1.4.6) (1.7.1)\n",
      "Requirement already satisfied: six in c:\\programdata\\anaconda3\\lib\\site-packages (from cycler>=0.10->matplotlib==3.4.3->XBNet==1.4.6) (1.16.0)\n",
      "Requirement already satisfied: joblib>=0.11 in c:\\programdata\\anaconda3\\lib\\site-packages (from scikit-learn->sklearn==0.0->XBNet==1.4.6) (1.1.0)\n",
      "Requirement already satisfied: threadpoolctl>=2.0.0 in c:\\programdata\\anaconda3\\lib\\site-packages (from scikit-learn->sklearn==0.0->XBNet==1.4.6) (2.2.0)\n",
      "Building wheels for collected packages: XBNet, sklearn\n",
      "  Building wheel for XBNet (setup.py): started\n",
      "  Building wheel for XBNet (setup.py): finished with status 'done'\n",
      "  Created wheel for XBNet: filename=XBNet-1.4.6-py3-none-any.whl size=13280 sha256=a46789c12094b72168a164e378dadc75a5bae2c5fa1a6c597b0a6e82a6cb45c8\n",
      "  Stored in directory: C:\\Users\\Cristina García\\AppData\\Local\\Temp\\pip-ephem-wheel-cache-h219i07p\\wheels\\e1\\fc\\fd\\454f766aabc107e8f137228c629835b432808c0ce974eff641\n",
      "  Building wheel for sklearn (setup.py): started\n",
      "  Building wheel for sklearn (setup.py): finished with status 'done'\n",
      "  Created wheel for sklearn: filename=sklearn-0.0-py2.py3-none-any.whl size=1309 sha256=61ec43ac0a17595c11abc48fe8dcdfdfd23e8299ebefe8a935086712615eee93\n",
      "  Stored in directory: c:\\users\\cristina garcía\\appdata\\local\\pip\\cache\\wheels\\e4\\7b\\98\\b6466d71b8d738a0c547008b9eb39bf8676d1ff6ca4b22af1c\n",
      "Successfully built XBNet sklearn\n",
      "Installing collected packages: numpy, xgboost, tqdm, torch, sklearn, pandas, XBNet\n",
      "  Attempting uninstall: numpy\n",
      "    Found existing installation: numpy 1.22.4\n",
      "    Uninstalling numpy-1.22.4:\n"
     ]
    },
    {
     "name": "stderr",
     "output_type": "stream",
     "text": [
      "  Running command git clone -q https://github.com/tusharsarkar3/XBNet.git 'C:\\Users\\Cristina García\\AppData\\Local\\Temp\\pip-req-build-0y3c_1na'\n",
      "ERROR: Could not install packages due to an OSError: [WinError 5] Acceso denegado: 'c:\\\\programdata\\\\anaconda3\\\\lib\\\\site-packages\\\\numpy-1.22.4.dist-info\\\\entry_points.txt'\n",
      "Consider using the `--user` option or check the permissions.\n",
      "\n"
     ]
    },
    {
     "name": "stderr",
     "output_type": "stream",
     "text": [
      "sys:1: ResourceWarning: unclosed socket <zmq.Socket(zmq.PUSH) at 0x21956cbac40>\n",
      "ResourceWarning: Enable tracemalloc to get the object allocation traceback\n",
      "c:\\ProgramData\\Anaconda3\\lib\\threading.py:914: ResourceWarning: unclosed file <_io.BufferedWriter name=3>\n",
      "  del self._target, self._args, self._kwargs\n",
      "ResourceWarning: Enable tracemalloc to get the object allocation traceback\n",
      "c:\\ProgramData\\Anaconda3\\lib\\threading.py:914: ResourceWarning: unclosed file <_io.BufferedReader name=4>\n",
      "  del self._target, self._args, self._kwargs\n",
      "ResourceWarning: Enable tracemalloc to get the object allocation traceback\n",
      "c:\\ProgramData\\Anaconda3\\lib\\threading.py:914: ResourceWarning: unclosed file <_io.BufferedReader name=5>\n",
      "  del self._target, self._args, self._kwargs\n",
      "ResourceWarning: Enable tracemalloc to get the object allocation traceback\n",
      "sys:1: ResourceWarning: unclosed socket <zmq.Socket(zmq.PUSH) at 0x21956cbab80>\n",
      "ResourceWarning: Enable tracemalloc to get the object allocation traceback\n"
     ]
    }
   ],
   "source": []
  }
 ],
 "metadata": {
  "kernelspec": {
   "display_name": "base",
   "language": "python",
   "name": "python3"
  },
  "language_info": {
   "codemirror_mode": {
    "name": "ipython",
    "version": 3
   },
   "file_extension": ".py",
   "mimetype": "text/x-python",
   "name": "python",
   "nbconvert_exporter": "python",
   "pygments_lexer": "ipython3",
   "version": "3.9.7"
  },
  "orig_nbformat": 4
 },
 "nbformat": 4,
 "nbformat_minor": 2
}
