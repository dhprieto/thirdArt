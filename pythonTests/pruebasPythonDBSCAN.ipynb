{
 "cells": [
  {
   "cell_type": "code",
   "execution_count": 30,
   "metadata": {},
   "outputs": [],
   "source": [
    "import numpy as np\n",
    "import pandas as pd\n",
    "from sklearn.datasets import make_blobs\n",
    "# Gráficos\n",
    "# ==============================================================================\n",
    "import matplotlib.pyplot as plt\n",
    "from matplotlib import style\n",
    "style.use('ggplot') or plt.style.use('ggplot')\n",
    "\n",
    "# Preprocesado y modelado\n",
    "# ==============================================================================\n",
    "from sklearn.cluster import DBSCAN\n",
    "from sklearn.preprocessing import scale\n",
    "from sklearn.metrics import silhouette_score\n",
    "from sklearn.neighbors import NearestNeighbors\n",
    "\n",
    "\n",
    "# Configuración warnings\n",
    "# ==============================================================================\n",
    "import warnings\n",
    "warnings.filterwarnings('ignore')"
   ]
  },
  {
   "cell_type": "code",
   "execution_count": 68,
   "metadata": {},
   "outputs": [
    {
     "data": {
      "text/html": [
       "<div>\n",
       "<style scoped>\n",
       "    .dataframe tbody tr th:only-of-type {\n",
       "        vertical-align: middle;\n",
       "    }\n",
       "\n",
       "    .dataframe tbody tr th {\n",
       "        vertical-align: top;\n",
       "    }\n",
       "\n",
       "    .dataframe thead th {\n",
       "        text-align: right;\n",
       "    }\n",
       "</style>\n",
       "<table border=\"1\" class=\"dataframe\">\n",
       "  <thead>\n",
       "    <tr style=\"text-align: right;\">\n",
       "      <th></th>\n",
       "      <th>numVol</th>\n",
       "      <th>Endulzante</th>\n",
       "      <th>X</th>\n",
       "      <th>EG</th>\n",
       "      <th>ES</th>\n",
       "      <th>HE.G</th>\n",
       "      <th>NG</th>\n",
       "      <th>NS</th>\n",
       "      <th>Tiempo</th>\n",
       "      <th>Peso.inicial</th>\n",
       "      <th>...</th>\n",
       "      <th>Delta.Grasa</th>\n",
       "      <th>IRCV.inicial</th>\n",
       "      <th>IRCV.Final</th>\n",
       "      <th>Bpmin.inicial</th>\n",
       "      <th>Bpmax.inicial</th>\n",
       "      <th>Bpmin.final</th>\n",
       "      <th>Bpmax.final</th>\n",
       "      <th>Frec.inicial</th>\n",
       "      <th>Frec.final</th>\n",
       "      <th>Sexo</th>\n",
       "    </tr>\n",
       "  </thead>\n",
       "  <tbody>\n",
       "    <tr>\n",
       "      <th>1</th>\n",
       "      <td>1</td>\n",
       "      <td>ST</td>\n",
       "      <td>1 A0</td>\n",
       "      <td>13.679368</td>\n",
       "      <td>0.083526</td>\n",
       "      <td>7.174852</td>\n",
       "      <td>44.516499</td>\n",
       "      <td>6.049078</td>\n",
       "      <td>0</td>\n",
       "      <td>75.2</td>\n",
       "      <td>...</td>\n",
       "      <td>-3.7</td>\n",
       "      <td>8</td>\n",
       "      <td>7</td>\n",
       "      <td>86</td>\n",
       "      <td>137</td>\n",
       "      <td>85</td>\n",
       "      <td>120</td>\n",
       "      <td>70</td>\n",
       "      <td>98</td>\n",
       "      <td>MUJER</td>\n",
       "    </tr>\n",
       "    <tr>\n",
       "      <th>4</th>\n",
       "      <td>3</td>\n",
       "      <td>ST</td>\n",
       "      <td>3 A0</td>\n",
       "      <td>27.096693</td>\n",
       "      <td>0.060181</td>\n",
       "      <td>0.315785</td>\n",
       "      <td>30.279825</td>\n",
       "      <td>5.972404</td>\n",
       "      <td>0</td>\n",
       "      <td>80.4</td>\n",
       "      <td>...</td>\n",
       "      <td>-2.4</td>\n",
       "      <td>11</td>\n",
       "      <td>7</td>\n",
       "      <td>75</td>\n",
       "      <td>107</td>\n",
       "      <td>78</td>\n",
       "      <td>104</td>\n",
       "      <td>64</td>\n",
       "      <td>65</td>\n",
       "      <td>MUJER</td>\n",
       "    </tr>\n",
       "    <tr>\n",
       "      <th>12</th>\n",
       "      <td>9</td>\n",
       "      <td>ST</td>\n",
       "      <td>9 A0</td>\n",
       "      <td>80.113298</td>\n",
       "      <td>0.039980</td>\n",
       "      <td>0.000026</td>\n",
       "      <td>11.413849</td>\n",
       "      <td>4.744569</td>\n",
       "      <td>0</td>\n",
       "      <td>64.7</td>\n",
       "      <td>...</td>\n",
       "      <td>-1.0</td>\n",
       "      <td>9</td>\n",
       "      <td>9</td>\n",
       "      <td>76</td>\n",
       "      <td>107</td>\n",
       "      <td>69</td>\n",
       "      <td>102</td>\n",
       "      <td>74</td>\n",
       "      <td>69</td>\n",
       "      <td>MUJER</td>\n",
       "    </tr>\n",
       "    <tr>\n",
       "      <th>15</th>\n",
       "      <td>10</td>\n",
       "      <td>ST</td>\n",
       "      <td>10 A0</td>\n",
       "      <td>11.792109</td>\n",
       "      <td>0.020568</td>\n",
       "      <td>0.569949</td>\n",
       "      <td>3.248316</td>\n",
       "      <td>1.960048</td>\n",
       "      <td>0</td>\n",
       "      <td>91.3</td>\n",
       "      <td>...</td>\n",
       "      <td>-1.1</td>\n",
       "      <td>10</td>\n",
       "      <td>10</td>\n",
       "      <td>88</td>\n",
       "      <td>150</td>\n",
       "      <td>91</td>\n",
       "      <td>158</td>\n",
       "      <td>80</td>\n",
       "      <td>72</td>\n",
       "      <td>MUJER</td>\n",
       "    </tr>\n",
       "    <tr>\n",
       "      <th>21</th>\n",
       "      <td>14</td>\n",
       "      <td>ST</td>\n",
       "      <td>14 A0</td>\n",
       "      <td>2.053593</td>\n",
       "      <td>0.090621</td>\n",
       "      <td>0.666540</td>\n",
       "      <td>22.933157</td>\n",
       "      <td>37.012139</td>\n",
       "      <td>0</td>\n",
       "      <td>73.2</td>\n",
       "      <td>...</td>\n",
       "      <td>-2.2</td>\n",
       "      <td>8</td>\n",
       "      <td>8</td>\n",
       "      <td>93</td>\n",
       "      <td>134</td>\n",
       "      <td>80</td>\n",
       "      <td>120</td>\n",
       "      <td>80</td>\n",
       "      <td>81</td>\n",
       "      <td>MUJER</td>\n",
       "    </tr>\n",
       "  </tbody>\n",
       "</table>\n",
       "<p>5 rows × 28 columns</p>\n",
       "</div>"
      ],
      "text/plain": [
       "    numVol Endulzante      X         EG        ES      HE.G         NG  \\\n",
       "1        1         ST   1 A0  13.679368  0.083526  7.174852  44.516499   \n",
       "4        3         ST   3 A0  27.096693  0.060181  0.315785  30.279825   \n",
       "12       9         ST   9 A0  80.113298  0.039980  0.000026  11.413849   \n",
       "15      10         ST  10 A0  11.792109  0.020568  0.569949   3.248316   \n",
       "21      14         ST  14 A0   2.053593  0.090621  0.666540  22.933157   \n",
       "\n",
       "           NS Tiempo  Peso.inicial  ...  Delta.Grasa  IRCV.inicial  \\\n",
       "1    6.049078      0          75.2  ...         -3.7             8   \n",
       "4    5.972404      0          80.4  ...         -2.4            11   \n",
       "12   4.744569      0          64.7  ...         -1.0             9   \n",
       "15   1.960048      0          91.3  ...         -1.1            10   \n",
       "21  37.012139      0          73.2  ...         -2.2             8   \n",
       "\n",
       "    IRCV.Final  Bpmin.inicial  Bpmax.inicial  Bpmin.final  Bpmax.final  \\\n",
       "1            7             86            137           85          120   \n",
       "4            7             75            107           78          104   \n",
       "12           9             76            107           69          102   \n",
       "15          10             88            150           91          158   \n",
       "21           8             93            134           80          120   \n",
       "\n",
       "    Frec.inicial  Frec.final   Sexo  \n",
       "1             70          98  MUJER  \n",
       "4             64          65  MUJER  \n",
       "12            74          69  MUJER  \n",
       "15            80          72  MUJER  \n",
       "21            80          81  MUJER  \n",
       "\n",
       "[5 rows x 28 columns]"
      ]
     },
     "execution_count": 68,
     "metadata": {},
     "output_type": "execute_result"
    }
   ],
   "source": [
    "url = \"data/tablaOrinaFlav.csv\"\n",
    "datos = pd.read_csv(url, encoding=\"unicode_escape\", index_col=[0])\n",
    "datos.head()"
   ]
  },
  {
   "cell_type": "code",
   "execution_count": 74,
   "metadata": {},
   "outputs": [],
   "source": [
    "X_scaled = datos.drop(columns=([\"numVol\", \"Endulzante\", \"X\",\"Tiempo\", \"Sexo\"])).to_numpy()\n",
    "\n",
    "\n"
   ]
  },
  {
   "cell_type": "code",
   "execution_count": 75,
   "metadata": {},
   "outputs": [
    {
     "data": {
      "text/plain": [
       "[<matplotlib.lines.Line2D at 0x23f442e2730>]"
      ]
     },
     "execution_count": 75,
     "metadata": {},
     "output_type": "execute_result"
    },
    {
     "data": {
      "image/png": "[encoded data removed]",
      "text/plain": [
       "<Figure size 432x288 with 1 Axes>"
      ]
     },
     "metadata": {},
     "output_type": "display_data"
    }
   ],
   "source": [
    "neigh = NearestNeighbors(n_neighbors=2)\n",
    "\n",
    "nbrs= neigh.fit(X_scaled)\n",
    "\n",
    "distances, indices = nbrs.kneighbors(X)\n",
    "\n",
    "distances = np.sort(distances, axis=0)\n",
    "distances = distances[:,1]\n",
    "plt.plot(distances)"
   ]
  },
  {
   "cell_type": "code",
   "execution_count": 79,
   "metadata": {},
   "outputs": [
    {
     "data": {
      "text/plain": [
       "DBSCAN(eps=50)"
      ]
     },
     "execution_count": 79,
     "metadata": {},
     "output_type": "execute_result"
    }
   ],
   "source": [
    "modelo_dbscan = DBSCAN(\n",
    "                eps=50,\n",
    "                min_samples = 5,\n",
    "                metric= \"euclidean\"\n",
    ")\n",
    "\n",
    "modelo_dbscan.fit(X=X_scaled)"
   ]
  },
  {
   "cell_type": "code",
   "execution_count": 80,
   "metadata": {},
   "outputs": [
    {
     "data": {
      "image/png": "[encoded data removed]",
      "text/plain": [
       "<Figure size 324x324 with 1 Axes>"
      ]
     },
     "metadata": {},
     "output_type": "display_data"
    }
   ],
   "source": [
    "# Clasificación\n",
    "# ==============================================================================\n",
    "labels = modelo_dbscan.labels_\n",
    "\n",
    "fig, ax = plt.subplots(1, 1, figsize=(4.5, 4.5))\n",
    "\n",
    "ax.scatter(\n",
    "    x = X[:, 0],\n",
    "    y = X[:, 1], \n",
    "    c = labels,\n",
    "    marker    = 'o',\n",
    "    edgecolor = 'black'\n",
    ")\n",
    "\n",
    "# Los outliers se identifican con el label -1\n",
    "ax.scatter(\n",
    "    x = X[labels == -1, 0],\n",
    "    y = X[labels == -1, 1], \n",
    "    c = 'red',\n",
    "    marker    = 'o',\n",
    "    edgecolor = 'black',\n",
    "    label = 'outliers'\n",
    ")\n",
    "\n",
    "ax.legend()\n",
    "ax.set_title('Clusterings generados por DBSCAN');"
   ]
  },
  {
   "cell_type": "code",
   "execution_count": 81,
   "metadata": {},
   "outputs": [
    {
     "name": "stdout",
     "output_type": "stream",
     "text": [
      "Número de clusters encontrados: 1\n",
      "Número de outliers encontrados: 17\n"
     ]
    }
   ],
   "source": [
    "# Número de clusters y observaciones \"outliers\"\n",
    "# ==============================================================================\n",
    "n_clusters = len(set(labels)) - (1 if -1 in labels else 0)\n",
    "n_noise    = list(labels).count(-1)\n",
    "\n",
    "print(f'Número de clusters encontrados: {n_clusters}')\n",
    "print(f'Número de outliers encontrados: {n_noise}')"
   ]
  },
  {
   "cell_type": "code",
   "execution_count": null,
   "metadata": {},
   "outputs": [],
   "source": []
  }
 ],
 "metadata": {
  "interpreter": {
   "hash": "be503a5d17d5d964293ad9a11725fc270bb523d366d69b0e63829d6fc602281e"
  },
  "kernelspec": {
   "display_name": "Python 3.9.7 64-bit ('deepLcurse': conda)",
   "language": "python",
   "name": "python3"
  },
  "language_info": {
   "codemirror_mode": {
    "name": "ipython",
    "version": 3
   },
   "file_extension": ".py",
   "mimetype": "text/x-python",
   "name": "python",
   "nbconvert_exporter": "python",
   "pygments_lexer": "ipython3",
   "version": "3.9.7"
  },
  "orig_nbformat": 4
 },
 "nbformat": 4,
 "nbformat_minor": 2
}
